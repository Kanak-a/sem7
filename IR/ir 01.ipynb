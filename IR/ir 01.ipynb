{
 "cells": [
  {
   "cell_type": "code",
   "execution_count": 1,
   "id": "84532835",
   "metadata": {},
   "outputs": [
    {
     "name": "stderr",
     "output_type": "stream",
     "text": [
      "[nltk_data] Downloading package punkt to\n",
      "[nltk_data]     C:\\Users\\HP\\AppData\\Roaming\\nltk_data...\n",
      "[nltk_data]   Package punkt is already up-to-date!\n",
      "[nltk_data] Downloading package stopwords to\n",
      "[nltk_data]     C:\\Users\\HP\\AppData\\Roaming\\nltk_data...\n",
      "[nltk_data]   Package stopwords is already up-to-date!\n"
     ]
    },
    {
     "name": "stdout",
     "output_type": "stream",
     "text": [
      "Processed Text: ['natur', 'languag', 'process', 'nlp', 'subfield', 'artifici', 'intellig', 'ai', 'focus', 'interact', 'comput', 'human', 'natur', 'languag', 'ultim', 'goal', 'nlp', 'read', 'deciph', 'understand', 'make', 'sens', 'human', 'languag', 'valuabl', 'way']\n"
     ]
    }
   ],
   "source": [
    "import nltk\n",
    "from nltk.corpus import stopwords\n",
    "from nltk.stem import PorterStemmer\n",
    "from nltk.tokenize import word_tokenize\n",
    "import string\n",
    "\n",
    "# Download required NLTK resources\n",
    "nltk.download('punkt')\n",
    "nltk.download('stopwords')\n",
    "\n",
    "def preprocess_text(text):\n",
    "    # 1. Tokenization\n",
    "    tokens = word_tokenize(text)\n",
    "\n",
    "    # 2. Convert to lowercase\n",
    "    tokens = [word.lower() for word in tokens]\n",
    "\n",
    "    # 3. Remove punctuation\n",
    "    tokens = [word for word in tokens if word not in string.punctuation]\n",
    "\n",
    "    # 4. Remove stop words\n",
    "    stop_words = set(stopwords.words('english'))\n",
    "    tokens = [word for word in tokens if word not in stop_words]\n",
    "\n",
    "    # 5. Stemming\n",
    "    ps = PorterStemmer()\n",
    "    tokens = [ps.stem(word) for word in tokens]\n",
    "\n",
    "    return tokens\n",
    "\n",
    "# Sample text document\n",
    "text_document = \"\"\"\n",
    "Natural language processing (NLP) is a subfield of artificial intelligence (AI)\n",
    "that focuses on the interaction between computers and humans through natural language.\n",
    "The ultimate goal of NLP is to read, decipher, understand, and make sense of human\n",
    "language in a valuable way.\n",
    "\"\"\"\n",
    "\n",
    "# Preprocess the text\n",
    "processed_text = preprocess_text(text_document)\n",
    "print(\"Processed Text:\", processed_text)\n"
   ]
  },
  {
   "cell_type": "code",
   "execution_count": null,
   "id": "e9b388dc",
   "metadata": {},
   "outputs": [],
   "source": []
  }
 ],
 "metadata": {
  "kernelspec": {
   "display_name": "Python 3 (ipykernel)",
   "language": "python",
   "name": "python3"
  },
  "language_info": {
   "codemirror_mode": {
    "name": "ipython",
    "version": 3
   },
   "file_extension": ".py",
   "mimetype": "text/x-python",
   "name": "python",
   "nbconvert_exporter": "python",
   "pygments_lexer": "ipython3",
   "version": "3.9.7"
  }
 },
 "nbformat": 4,
 "nbformat_minor": 5
}
