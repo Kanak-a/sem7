{
 "cells": [
  {
   "cell_type": "markdown",
   "id": "d5d03dd8",
   "metadata": {},
   "source": [
    "## Assignment : 02\n",
    "### Aim : Inverted Index "
   ]
  },
  {
   "cell_type": "code",
   "execution_count": 4,
   "id": "439d4ba3",
   "metadata": {},
   "outputs": [
    {
     "name": "stdout",
     "output_type": "stream",
     "text": [
      "Docs containing cat: {1, 2}\n",
      "Docs containing the: {1, 2, 4}\n"
     ]
    }
   ],
   "source": [
    "class InvertedIndex:\n",
    "    def __init__(self):\n",
    "        self.index = {}\n",
    "        self.documents = {}\n",
    "        \n",
    "    def add_documents(self, doc_id, text):\n",
    "        self.documents[doc_id] = text\n",
    "        terms = text.lower().split()\n",
    "        for term in terms:\n",
    "            if term not in self.index:\n",
    "                self.index[term] = set()\n",
    "            self.index[term].add(doc_id)\n",
    "            \n",
    "    def search(self, query):\n",
    "        query_terms = query.lower().split()\n",
    "        result_sets = []\n",
    "        for term in query_terms:\n",
    "            if term in self.index:\n",
    "                result_sets.append(self.index[term])\n",
    "            else:\n",
    "                results_sets.append(set())\n",
    "                \n",
    "        #get the intersection of all results\n",
    "        if result_sets:\n",
    "            result_docs = set.intersection(*result_sets) if len(result_sets)>1 else result_sets[0]\n",
    "        else:\n",
    "            result_docs = set()\n",
    "            \n",
    "        return result_docs\n",
    "    \n",
    "if __name__ == '__main__':\n",
    "    #create inverted index\n",
    "    inverted_index = InvertedIndex() #object\n",
    "    \n",
    "    #add some docs \n",
    "    inverted_index.add_documents(1, 'The cat in the hat.')\n",
    "    inverted_index.add_documents(2, 'The cat is a fine pet.')\n",
    "    inverted_index.add_documents(3, 'Dogs are great pets also.')\n",
    "    inverted_index.add_documents(4, 'The dog is so cute.')\n",
    "    \n",
    "    #Search for documents containing specific terms \n",
    "    query1 = 'cat'\n",
    "    results1 = inverted_index.search(query1)\n",
    "    print(f'Docs containing {query1}: {results1}')\n",
    "\n",
    "    query1 = 'the'\n",
    "    results1 = inverted_index.search(query1)\n",
    "    print(f'Docs containing {query1}: {results1}')"
   ]
  },
  {
   "cell_type": "code",
   "execution_count": null,
   "id": "a28caa29",
   "metadata": {},
   "outputs": [],
   "source": []
  }
 ],
 "metadata": {
  "kernelspec": {
   "display_name": "Python 3 (ipykernel)",
   "language": "python",
   "name": "python3"
  },
  "language_info": {
   "codemirror_mode": {
    "name": "ipython",
    "version": 3
   },
   "file_extension": ".py",
   "mimetype": "text/x-python",
   "name": "python",
   "nbconvert_exporter": "python",
   "pygments_lexer": "ipython3",
   "version": "3.9.7"
  }
 },
 "nbformat": 4,
 "nbformat_minor": 5
}
