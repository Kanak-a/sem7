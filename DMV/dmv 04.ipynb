{
 "cells": [
  {
   "cell_type": "code",
   "execution_count": 1,
   "id": "2e338948",
   "metadata": {},
   "outputs": [],
   "source": [
    "import pandas as pd\n",
    "import numpy as np\n",
    "\n",
    "import matplotlib.pyplot as plt\n",
    "import seaborn as sns"
   ]
  },
  {
   "cell_type": "code",
   "execution_count": 2,
   "id": "f314ffdc",
   "metadata": {},
   "outputs": [],
   "source": [
    "df = pd.read_csv(\"D:\\BE\\dmv\\datasets\\RealEstate_price.csv\")"
   ]
  },
  {
   "cell_type": "code",
   "execution_count": 3,
   "id": "0856c735",
   "metadata": {},
   "outputs": [
    {
     "data": {
      "text/html": [
       "<div>\n",
       "<style scoped>\n",
       "    .dataframe tbody tr th:only-of-type {\n",
       "        vertical-align: middle;\n",
       "    }\n",
       "\n",
       "    .dataframe tbody tr th {\n",
       "        vertical-align: top;\n",
       "    }\n",
       "\n",
       "    .dataframe thead th {\n",
       "        text-align: right;\n",
       "    }\n",
       "</style>\n",
       "<table border=\"1\" class=\"dataframe\">\n",
       "  <thead>\n",
       "    <tr style=\"text-align: right;\">\n",
       "      <th></th>\n",
       "      <th>Home</th>\n",
       "      <th>Price</th>\n",
       "      <th>SqFt</th>\n",
       "      <th>Bedrooms</th>\n",
       "      <th>Bathrooms</th>\n",
       "      <th>Offers</th>\n",
       "      <th>Brick</th>\n",
       "      <th>Neighborhood</th>\n",
       "      <th>Sales_date</th>\n",
       "    </tr>\n",
       "  </thead>\n",
       "  <tbody>\n",
       "    <tr>\n",
       "      <th>0</th>\n",
       "      <td>1</td>\n",
       "      <td>114300.0</td>\n",
       "      <td>1790</td>\n",
       "      <td>2.0</td>\n",
       "      <td>2</td>\n",
       "      <td>2</td>\n",
       "      <td>No</td>\n",
       "      <td>East</td>\n",
       "      <td>15-01-2021</td>\n",
       "    </tr>\n",
       "    <tr>\n",
       "      <th>1</th>\n",
       "      <td>2</td>\n",
       "      <td>114200.0</td>\n",
       "      <td>2030</td>\n",
       "      <td>4.0</td>\n",
       "      <td>2</td>\n",
       "      <td>3</td>\n",
       "      <td>No</td>\n",
       "      <td>East</td>\n",
       "      <td>21-09-2022</td>\n",
       "    </tr>\n",
       "    <tr>\n",
       "      <th>2</th>\n",
       "      <td>3</td>\n",
       "      <td>114800.0</td>\n",
       "      <td>1740</td>\n",
       "      <td>3.0</td>\n",
       "      <td>2</td>\n",
       "      <td>1</td>\n",
       "      <td>No</td>\n",
       "      <td>East</td>\n",
       "      <td>13-03-2022</td>\n",
       "    </tr>\n",
       "    <tr>\n",
       "      <th>3</th>\n",
       "      <td>4</td>\n",
       "      <td>94700.0</td>\n",
       "      <td>1980</td>\n",
       "      <td>3.0</td>\n",
       "      <td>2</td>\n",
       "      <td>3</td>\n",
       "      <td>No</td>\n",
       "      <td>East</td>\n",
       "      <td>31-08-2021</td>\n",
       "    </tr>\n",
       "    <tr>\n",
       "      <th>4</th>\n",
       "      <td>5</td>\n",
       "      <td>119800.0</td>\n",
       "      <td>2130</td>\n",
       "      <td>3.0</td>\n",
       "      <td>3</td>\n",
       "      <td>3</td>\n",
       "      <td>No</td>\n",
       "      <td>East</td>\n",
       "      <td>31-08-2021</td>\n",
       "    </tr>\n",
       "  </tbody>\n",
       "</table>\n",
       "</div>"
      ],
      "text/plain": [
       "   Home     Price  SqFt  Bedrooms  Bathrooms  Offers Brick Neighborhood  \\\n",
       "0     1  114300.0  1790       2.0          2       2    No         East   \n",
       "1     2  114200.0  2030       4.0          2       3    No         East   \n",
       "2     3  114800.0  1740       3.0          2       1    No         East   \n",
       "3     4   94700.0  1980       3.0          2       3    No         East   \n",
       "4     5  119800.0  2130       3.0          3       3    No         East   \n",
       "\n",
       "   Sales_date  \n",
       "0  15-01-2021  \n",
       "1  21-09-2022  \n",
       "2  13-03-2022  \n",
       "3  31-08-2021  \n",
       "4  31-08-2021  "
      ]
     },
     "execution_count": 3,
     "metadata": {},
     "output_type": "execute_result"
    }
   ],
   "source": [
    "df.head()"
   ]
  },
  {
   "cell_type": "code",
   "execution_count": 4,
   "id": "952eae64",
   "metadata": {},
   "outputs": [
    {
     "name": "stdout",
     "output_type": "stream",
     "text": [
      "<class 'pandas.core.frame.DataFrame'>\n",
      "RangeIndex: 128 entries, 0 to 127\n",
      "Data columns (total 9 columns):\n",
      " #   Column        Non-Null Count  Dtype  \n",
      "---  ------        --------------  -----  \n",
      " 0   Home          128 non-null    int64  \n",
      " 1   Price         124 non-null    float64\n",
      " 2   SqFt          128 non-null    int64  \n",
      " 3   Bedrooms      124 non-null    float64\n",
      " 4   Bathrooms     128 non-null    int64  \n",
      " 5   Offers        128 non-null    int64  \n",
      " 6   Brick         128 non-null    object \n",
      " 7   Neighborhood  128 non-null    object \n",
      " 8   Sales_date    128 non-null    object \n",
      "dtypes: float64(2), int64(4), object(3)\n",
      "memory usage: 9.1+ KB\n"
     ]
    }
   ],
   "source": [
    "df.info()"
   ]
  },
  {
   "cell_type": "code",
   "execution_count": 5,
   "id": "3ea54e5a",
   "metadata": {},
   "outputs": [
    {
     "name": "stdout",
     "output_type": "stream",
     "text": [
      "Home            0\n",
      "Price           4\n",
      "SqFt            0\n",
      "Bedrooms        4\n",
      "Bathrooms       0\n",
      "Offers          0\n",
      "Brick           0\n",
      "Neighborhood    0\n",
      "Sales_date      0\n",
      "dtype: int64\n"
     ]
    }
   ],
   "source": [
    "print(df.isnull().sum())"
   ]
  },
  {
   "cell_type": "code",
   "execution_count": 6,
   "id": "7f3abb3a",
   "metadata": {},
   "outputs": [],
   "source": [
    "#filling wiht median\n",
    "df['Bedrooms'].fillna(df['Bedrooms'].median(), inplace=True)"
   ]
  },
  {
   "cell_type": "code",
   "execution_count": 8,
   "id": "a567a776",
   "metadata": {},
   "outputs": [],
   "source": [
    "#filtering the datasets\n",
    "df['Sales_date'] = pd.to_datetime(df['Sales_date'], format='%d-%m-%Y')\n",
    "\n",
    "#now that data filetered we can filter out properties sold in 2021\n",
    "df_2021 = df[df['Sales_date'].dt.year == 2021]"
   ]
  },
  {
   "cell_type": "code",
   "execution_count": 10,
   "id": "f87e13ba",
   "metadata": {
    "collapsed": true
   },
   "outputs": [
    {
     "name": "stdout",
     "output_type": "stream",
     "text": [
      "     Home     Price  SqFt  Bedrooms  Bathrooms  Offers Brick Neighborhood  \\\n",
      "0       1  114300.0  1790       2.0          2       2    No         East   \n",
      "3       4   94700.0  1980       3.0          2       3    No         East   \n",
      "4       5  119800.0  2130       3.0          3       3    No         East   \n",
      "5       6  114600.0  1780       3.0          2       2    No        North   \n",
      "10     11  132500.0  2030       3.0          2       3   Yes         East   \n",
      "11     12  123000.0  1870       2.0          2       2   Yes         East   \n",
      "14     15  176800.0  2590       4.0          3       4    No         West   \n",
      "16     17  147100.0  2190       3.0          3       4   Yes         East   \n",
      "18     19  111400.0  1700       2.0          2       1   Yes         East   \n",
      "20     21  116200.0  1790       3.0          2       3    No         East   \n",
      "23     24  106100.0  1820       3.0          2       3   Yes        North   \n",
      "30     31  182000.0  2250       4.0          3       3   Yes         West   \n",
      "36     37  117500.0  1880       2.0          2       2    No        North   \n",
      "37     38  147000.0  2420       4.0          3       4    No         West   \n",
      "41     42  133600.0  1840       4.0          3       2    No         West   \n",
      "44     45  166500.0  1940       3.0          3       2   Yes         West   \n",
      "47     48   90300.0  2050       3.0          2       6    No        North   \n",
      "49     50  107500.0  1700       3.0          2       3   Yes        North   \n",
      "51     52       NaN  1860       2.0          2       3    No        North   \n",
      "52     53  117400.0  2150       2.0          3       4    No        North   \n",
      "56     57  140900.0  2190       3.0          2       3   Yes         East   \n",
      "57     58  152300.0  2240       4.0          3       3    No         West   \n",
      "60     61  180900.0  2200       3.0          3       1    No         West   \n",
      "66     67  126200.0  2210       3.0          3       4    No        North   \n",
      "70     71  166700.0  1950       3.0          3       3   Yes         West   \n",
      "73     74  125700.0  2040       3.0          3       2    No         East   \n",
      "74     75  144200.0  2140       3.0          3       3    No         West   \n",
      "75     76  106900.0  1900       2.0          2       2    No        North   \n",
      "80     81       NaN  2190       3.0          3       4   Yes         East   \n",
      "82     83  164800.0  2050       2.0          2       1   Yes         West   \n",
      "84     85   90500.0  1520       2.0          2       3    No        North   \n",
      "85     86  188300.0  2250       4.0          3       2   Yes         West   \n",
      "88     89  127700.0  1930       3.0          3       2    No        North   \n",
      "89     90   97800.0  2010       2.0          2       4    No        North   \n",
      "90     91  143100.0  1920       4.0          2       2    No         West   \n",
      "92     93  142600.0  2110       3.0          2       2    No         West   \n",
      "93     94  157100.0  2080       3.0          3       2    No         East   \n",
      "94     95  160600.0  2150       4.0          3       3   Yes         West   \n",
      "95     96  152500.0  1970       2.0          2       1   Yes         West   \n",
      "100   101  103200.0  2010       3.0          2       5    No        North   \n",
      "108   109  117000.0  1990       3.0          3       3   Yes         East   \n",
      "114   115  124500.0  2010       4.0          3       2    No         East   \n",
      "115   116  102500.0  1900       3.0          3       3    No        North   \n",
      "117   118  117800.0  1920       3.0          2       2    No        North   \n",
      "119   120  109700.0  1920       2.0          2       4    No        North   \n",
      "120   121  110400.0  1930       2.0          3       3    No        North   \n",
      "121   122  105600.0  1930       3.0          3       3    No         East   \n",
      "125   126  113500.0  2070       2.0          2       2    No        North   \n",
      "\n",
      "    Sales_date  \n",
      "0   2021-01-15  \n",
      "3   2021-08-31  \n",
      "4   2021-08-31  \n",
      "5   2021-09-22  \n",
      "10  2021-02-24  \n",
      "11  2021-11-20  \n",
      "14  2021-09-25  \n",
      "16  2021-08-16  \n",
      "18  2021-07-08  \n",
      "20  2021-07-08  \n",
      "23  2021-12-26  \n",
      "30  2021-03-20  \n",
      "36  2021-02-13  \n",
      "37  2021-11-23  \n",
      "41  2021-12-23  \n",
      "44  2021-04-23  \n",
      "47  2021-10-07  \n",
      "49  2021-09-10  \n",
      "51  2021-01-21  \n",
      "52  2021-07-09  \n",
      "56  2021-02-23  \n",
      "57  2021-05-31  \n",
      "60  2021-07-19  \n",
      "66  2021-03-09  \n",
      "70  2021-08-20  \n",
      "73  2021-08-16  \n",
      "74  2021-04-10  \n",
      "75  2021-12-29  \n",
      "80  2021-08-11  \n",
      "82  2021-11-25  \n",
      "84  2021-04-21  \n",
      "85  2021-02-13  \n",
      "88  2021-08-18  \n",
      "89  2021-04-01  \n",
      "90  2021-05-29  \n",
      "92  2021-05-16  \n",
      "93  2021-11-30  \n",
      "94  2021-12-03  \n",
      "95  2021-09-08  \n",
      "100 2021-09-11  \n",
      "108 2021-03-06  \n",
      "114 2021-04-06  \n",
      "115 2021-04-14  \n",
      "117 2021-05-23  \n",
      "119 2021-01-29  \n",
      "120 2021-03-17  \n",
      "121 2021-04-10  \n",
      "125 2021-08-17  \n"
     ]
    }
   ],
   "source": [
    "print(df_2021)"
   ]
  },
  {
   "cell_type": "code",
   "execution_count": 15,
   "id": "0b7cd4ce",
   "metadata": {
    "scrolled": true
   },
   "outputs": [
    {
     "name": "stdout",
     "output_type": "stream",
     "text": [
      "0   NaN\n",
      "1   NaN\n",
      "2   NaN\n",
      "3   NaN\n",
      "4   NaN\n",
      "5   NaN\n",
      "6   NaN\n",
      "7   NaN\n",
      "8   NaN\n",
      "9   NaN\n",
      "Name: Brick, dtype: float64\n"
     ]
    }
   ],
   "source": [
    "#Encoding categorical data \n",
    "## conver 'brick' to binary (1: Yes, 0: No)\n",
    "df['Brick'] = df['Brick'].map({'Yes': 1, 'No': 0})\n",
    "\n"
   ]
  },
  {
   "cell_type": "code",
   "execution_count": 18,
   "id": "3f495ad6",
   "metadata": {},
   "outputs": [
    {
     "name": "stdout",
     "output_type": "stream",
     "text": [
      "  Neighborhood          Price\n",
      "0         East  124620.930233\n",
      "1        North  110426.190476\n",
      "2         West  159294.871795\n"
     ]
    }
   ],
   "source": [
    "#aggregating data\n",
    "##aggregating avg sale price by neighborhood\n",
    "\n",
    "average_price_by_neighborhood = df.groupby('Neighborhood')['Price'].mean().reset_index()\n",
    "print(average_price_by_neighborhood)"
   ]
  },
  {
   "cell_type": "code",
   "execution_count": 16,
   "id": "ccd023ef",
   "metadata": {},
   "outputs": [
    {
     "data": {
      "image/png": "[encoded data removed]",
      "text/plain": [
       "<Figure size 720x432 with 1 Axes>"
      ]
     },
     "metadata": {
      "needs_background": "light"
     },
     "output_type": "display_data"
    }
   ],
   "source": [
    "#viz\n",
    "\n",
    "plt.figure(figsize=(10, 6))\n",
    "sns.histplot(df['Price'], kde=True, color='skyblue')\n",
    "plt.xlabel('Price')\n",
    "plt.ylabel('Frequencey')\n",
    "plt.show()"
   ]
  },
  {
   "cell_type": "code",
   "execution_count": 20,
   "id": "e9ae62d2",
   "metadata": {},
   "outputs": [
    {
     "data": {
      "image/png": "[encoded data removed]",
      "text/plain": [
       "<Figure size 720x432 with 1 Axes>"
      ]
     },
     "metadata": {
      "needs_background": "light"
     },
     "output_type": "display_data"
    }
   ],
   "source": [
    "#bar plot for average price by neighborhood\n",
    "plt.figure(figsize=(10, 6))\n",
    "sns.barplot(x='Neighborhood', y='Price', data=average_price_by_neighborhood, palette ='viridis')\n",
    "plt.title('Average Price by Neighborhood')\n",
    "plt.xlabel('Neighborhood')\n",
    "plt.ylabel('Average Price')\n",
    "plt.show()"
   ]
  },
  {
   "cell_type": "code",
   "execution_count": 24,
   "id": "5ff2e48f",
   "metadata": {},
   "outputs": [
    {
     "data": {
      "image/png": "[encoded data removed]",
      "text/plain": [
       "<Figure size 720x432 with 1 Axes>"
      ]
     },
     "metadata": {
      "needs_background": "light"
     },
     "output_type": "display_data"
    }
   ],
   "source": [
    "#scatter plot for price vs sqft\n",
    "plt.figure(figsize=(10, 6))\n",
    "sns.scatterplot(x='SqFt', y='Price', data =df, palette='coolwarm')\n",
    "plt.title('Price vs. Square Footage')\n",
    "plt.xlabel('Square Footage')\n",
    "plt.ylabel('Price')\n",
    "plt.show()"
   ]
  },
  {
   "cell_type": "code",
   "execution_count": null,
   "id": "fd076ba5",
   "metadata": {},
   "outputs": [],
   "source": []
  }
 ],
 "metadata": {
  "kernelspec": {
   "display_name": "Python 3 (ipykernel)",
   "language": "python",
   "name": "python3"
  },
  "language_info": {
   "codemirror_mode": {
    "name": "ipython",
    "version": 3
   },
   "file_extension": ".py",
   "mimetype": "text/x-python",
   "name": "python",
   "nbconvert_exporter": "python",
   "pygments_lexer": "ipython3",
   "version": "3.9.7"
  }
 },
 "nbformat": 4,
 "nbformat_minor": 5
}
