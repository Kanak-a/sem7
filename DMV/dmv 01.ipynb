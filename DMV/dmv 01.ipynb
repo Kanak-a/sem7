{
 "cells": [
  {
   "cell_type": "code",
   "execution_count": 25,
   "id": "ea2a5c47",
   "metadata": {},
   "outputs": [],
   "source": [
    "# assignment no: 01\n",
    "# aim: Data Loading, Storage and File Formats\n",
    "\n",
    "# title: Analyzing Sales Data from Multiple File Formats"
   ]
  },
  {
   "cell_type": "code",
   "execution_count": 26,
   "id": "b00dcfad",
   "metadata": {},
   "outputs": [],
   "source": [
    "#note 📝 - to learn to form a basic template of the sales.csv data for the exam"
   ]
  },
  {
   "cell_type": "code",
   "execution_count": 27,
   "id": "1cbed2cf",
   "metadata": {},
   "outputs": [],
   "source": [
    "import pandas as pd\n",
    "import numpy as np\n",
    "\n",
    "import matplotlib.pyplot as plt\n",
    "import seaborn as sns"
   ]
  },
  {
   "cell_type": "code",
   "execution_count": 28,
   "id": "041a3a69",
   "metadata": {},
   "outputs": [],
   "source": [
    "#forming the dataframe from scratch\n",
    "\n",
    "data = {\n",
    "    'ID': [101, 253, 555, 789, 544, 123, 365, 963],\n",
    "    'Salesman': ['Ram', 'Sham', 'Tony', 'Jack', 'Luke', 'Gopal', 'Karan', 'Tina'],\n",
    "    'Sales': [12000, 10000, 30000, 44000, None, 12433, 9999, 15000],\n",
    "    'Product_Type': ['Grocery', 'Food', 'Clothing', 'Food', 'Waste', 'Electronics', 'Clothing', 'Grocery'],\n",
    "    'Sales_Channel': ['Offline', 'Online', 'Online', 'Online', 'Offline', '', '', 'Online'],\n",
    "    'Address': ['Pune', 'Nagpur', 'Chennai', 'Bangalore', 'Delhi', 'Mumbai', 'Jammu', 'Bhopal'],\n",
    "    'Date': ['2023-01-12', '2023-02-15', '2023-03-10', '2023-04-05', '2023-05-20', '2023-06-25', '2023-07-19', '2023-08-01'],\n",
    "    'Units_Sold': [15, 20, 10, 25, 5, 50, 18, None]\n",
    "}\n",
    "\n",
    "df = pd.DataFrame(data)\n",
    "\n",
    "#converting data to csv format\n",
    "df.to_csv('sales.csv', index=False)\n",
    "df.to_excel('sales.xlsx', index=False)\n",
    "df.to_json('sales.json', orient='records')"
   ]
  },
  {
   "cell_type": "code",
   "execution_count": 29,
   "id": "56cfbcaa",
   "metadata": {},
   "outputs": [],
   "source": [
    "df_csv = pd.read_csv('sales.csv')\n",
    "df_excel = pd.read_excel('sales.xlsx')\n",
    "df_json = pd.read_json('sales.json')"
   ]
  },
  {
   "cell_type": "code",
   "execution_count": 30,
   "id": "320ae3e1",
   "metadata": {
    "scrolled": true
   },
   "outputs": [
    {
     "name": "stdout",
     "output_type": "stream",
     "text": [
      "<class 'pandas.core.frame.DataFrame'>\n",
      "RangeIndex: 8 entries, 0 to 7\n",
      "Data columns (total 8 columns):\n",
      " #   Column         Non-Null Count  Dtype  \n",
      "---  ------         --------------  -----  \n",
      " 0   ID             8 non-null      int64  \n",
      " 1   Salesman       8 non-null      object \n",
      " 2   Sales          7 non-null      float64\n",
      " 3   Product_Type   8 non-null      object \n",
      " 4   Sales_Channel  8 non-null      object \n",
      " 5   Address        8 non-null      object \n",
      " 6   Date           8 non-null      object \n",
      " 7   Units_Sold     7 non-null      float64\n",
      "dtypes: float64(2), int64(1), object(5)\n",
      "memory usage: 640.0+ bytes\n"
     ]
    }
   ],
   "source": [
    "df.info()"
   ]
  },
  {
   "cell_type": "code",
   "execution_count": 31,
   "id": "2e7a4512",
   "metadata": {},
   "outputs": [
    {
     "data": {
      "text/html": [
       "<div>\n",
       "<style scoped>\n",
       "    .dataframe tbody tr th:only-of-type {\n",
       "        vertical-align: middle;\n",
       "    }\n",
       "\n",
       "    .dataframe tbody tr th {\n",
       "        vertical-align: top;\n",
       "    }\n",
       "\n",
       "    .dataframe thead th {\n",
       "        text-align: right;\n",
       "    }\n",
       "</style>\n",
       "<table border=\"1\" class=\"dataframe\">\n",
       "  <thead>\n",
       "    <tr style=\"text-align: right;\">\n",
       "      <th></th>\n",
       "      <th>ID</th>\n",
       "      <th>Salesman</th>\n",
       "      <th>Sales</th>\n",
       "      <th>Product_Type</th>\n",
       "      <th>Sales_Channel</th>\n",
       "      <th>Address</th>\n",
       "      <th>Date</th>\n",
       "      <th>Units_Sold</th>\n",
       "    </tr>\n",
       "  </thead>\n",
       "  <tbody>\n",
       "    <tr>\n",
       "      <th>0</th>\n",
       "      <td>101</td>\n",
       "      <td>Ram</td>\n",
       "      <td>12000.0</td>\n",
       "      <td>Grocery</td>\n",
       "      <td>Offline</td>\n",
       "      <td>Pune</td>\n",
       "      <td>2023-01-12</td>\n",
       "      <td>15.0</td>\n",
       "    </tr>\n",
       "    <tr>\n",
       "      <th>1</th>\n",
       "      <td>253</td>\n",
       "      <td>Sham</td>\n",
       "      <td>10000.0</td>\n",
       "      <td>Food</td>\n",
       "      <td>Online</td>\n",
       "      <td>Nagpur</td>\n",
       "      <td>2023-02-15</td>\n",
       "      <td>20.0</td>\n",
       "    </tr>\n",
       "    <tr>\n",
       "      <th>2</th>\n",
       "      <td>555</td>\n",
       "      <td>Tony</td>\n",
       "      <td>30000.0</td>\n",
       "      <td>Clothing</td>\n",
       "      <td>Online</td>\n",
       "      <td>Chennai</td>\n",
       "      <td>2023-03-10</td>\n",
       "      <td>10.0</td>\n",
       "    </tr>\n",
       "    <tr>\n",
       "      <th>3</th>\n",
       "      <td>789</td>\n",
       "      <td>Jack</td>\n",
       "      <td>44000.0</td>\n",
       "      <td>Food</td>\n",
       "      <td>Online</td>\n",
       "      <td>Bangalore</td>\n",
       "      <td>2023-04-05</td>\n",
       "      <td>25.0</td>\n",
       "    </tr>\n",
       "    <tr>\n",
       "      <th>4</th>\n",
       "      <td>544</td>\n",
       "      <td>Luke</td>\n",
       "      <td>NaN</td>\n",
       "      <td>Waste</td>\n",
       "      <td>Offline</td>\n",
       "      <td>Delhi</td>\n",
       "      <td>2023-05-20</td>\n",
       "      <td>5.0</td>\n",
       "    </tr>\n",
       "    <tr>\n",
       "      <th>5</th>\n",
       "      <td>123</td>\n",
       "      <td>Gopal</td>\n",
       "      <td>12433.0</td>\n",
       "      <td>Electronics</td>\n",
       "      <td></td>\n",
       "      <td>Mumbai</td>\n",
       "      <td>2023-06-25</td>\n",
       "      <td>50.0</td>\n",
       "    </tr>\n",
       "    <tr>\n",
       "      <th>6</th>\n",
       "      <td>365</td>\n",
       "      <td>Karan</td>\n",
       "      <td>9999.0</td>\n",
       "      <td>Clothing</td>\n",
       "      <td></td>\n",
       "      <td>Jammu</td>\n",
       "      <td>2023-07-19</td>\n",
       "      <td>18.0</td>\n",
       "    </tr>\n",
       "    <tr>\n",
       "      <th>7</th>\n",
       "      <td>963</td>\n",
       "      <td>Tina</td>\n",
       "      <td>15000.0</td>\n",
       "      <td>Grocery</td>\n",
       "      <td>Online</td>\n",
       "      <td>Bhopal</td>\n",
       "      <td>2023-08-01</td>\n",
       "      <td>NaN</td>\n",
       "    </tr>\n",
       "  </tbody>\n",
       "</table>\n",
       "</div>"
      ],
      "text/plain": [
       "    ID Salesman    Sales Product_Type Sales_Channel    Address        Date  \\\n",
       "0  101      Ram  12000.0      Grocery       Offline       Pune  2023-01-12   \n",
       "1  253     Sham  10000.0         Food        Online     Nagpur  2023-02-15   \n",
       "2  555     Tony  30000.0     Clothing        Online    Chennai  2023-03-10   \n",
       "3  789     Jack  44000.0         Food        Online  Bangalore  2023-04-05   \n",
       "4  544     Luke      NaN        Waste       Offline      Delhi  2023-05-20   \n",
       "5  123    Gopal  12433.0  Electronics                   Mumbai  2023-06-25   \n",
       "6  365    Karan   9999.0     Clothing                    Jammu  2023-07-19   \n",
       "7  963     Tina  15000.0      Grocery        Online     Bhopal  2023-08-01   \n",
       "\n",
       "   Units_Sold  \n",
       "0        15.0  \n",
       "1        20.0  \n",
       "2        10.0  \n",
       "3        25.0  \n",
       "4         5.0  \n",
       "5        50.0  \n",
       "6        18.0  \n",
       "7         NaN  "
      ]
     },
     "execution_count": 31,
     "metadata": {},
     "output_type": "execute_result"
    }
   ],
   "source": [
    "df.head(10)"
   ]
  },
  {
   "cell_type": "code",
   "execution_count": 32,
   "id": "5e68431d",
   "metadata": {},
   "outputs": [
    {
     "data": {
      "text/plain": [
       "ID               0\n",
       "Salesman         0\n",
       "Sales            1\n",
       "Product_Type     0\n",
       "Sales_Channel    0\n",
       "Address          0\n",
       "Date             0\n",
       "Units_Sold       1\n",
       "dtype: int64"
      ]
     },
     "execution_count": 32,
     "metadata": {},
     "output_type": "execute_result"
    }
   ],
   "source": [
    "#checkign for missing values\n",
    "df.isnull().sum()"
   ]
  },
  {
   "cell_type": "code",
   "execution_count": 33,
   "id": "5be7c805",
   "metadata": {},
   "outputs": [],
   "source": [
    "#replacing empty strings wiht NaN in sales_channel column\n",
    "df['Sales_Channel'].replace('', np.nan, inplace=True)"
   ]
  },
  {
   "cell_type": "code",
   "execution_count": 34,
   "id": "0390e35f",
   "metadata": {},
   "outputs": [
    {
     "data": {
      "text/plain": [
       "ID               0\n",
       "Salesman         0\n",
       "Sales            1\n",
       "Product_Type     0\n",
       "Sales_Channel    2\n",
       "Address          0\n",
       "Date             0\n",
       "Units_Sold       1\n",
       "dtype: int64"
      ]
     },
     "execution_count": 34,
     "metadata": {},
     "output_type": "execute_result"
    }
   ],
   "source": [
    "df.isnull().sum()"
   ]
  },
  {
   "cell_type": "code",
   "execution_count": 35,
   "id": "1b37a526",
   "metadata": {},
   "outputs": [],
   "source": [
    "#filling the null values using fillna()\n",
    "df.fillna({\n",
    "    'Sales' : df['Sales'].mean(),\n",
    "    'Sales_Channel': 'Unknown',\n",
    "    'Units_Sold': df['Units_Sold'].median()\n",
    "}, inplace=True)"
   ]
  },
  {
   "cell_type": "code",
   "execution_count": 36,
   "id": "9911ae54",
   "metadata": {},
   "outputs": [
    {
     "data": {
      "text/html": [
       "<div>\n",
       "<style scoped>\n",
       "    .dataframe tbody tr th:only-of-type {\n",
       "        vertical-align: middle;\n",
       "    }\n",
       "\n",
       "    .dataframe tbody tr th {\n",
       "        vertical-align: top;\n",
       "    }\n",
       "\n",
       "    .dataframe thead th {\n",
       "        text-align: right;\n",
       "    }\n",
       "</style>\n",
       "<table border=\"1\" class=\"dataframe\">\n",
       "  <thead>\n",
       "    <tr style=\"text-align: right;\">\n",
       "      <th></th>\n",
       "      <th>ID</th>\n",
       "      <th>Salesman</th>\n",
       "      <th>Sales</th>\n",
       "      <th>Product_Type</th>\n",
       "      <th>Sales_Channel</th>\n",
       "      <th>Address</th>\n",
       "      <th>Date</th>\n",
       "      <th>Units_Sold</th>\n",
       "    </tr>\n",
       "  </thead>\n",
       "  <tbody>\n",
       "    <tr>\n",
       "      <th>0</th>\n",
       "      <td>101</td>\n",
       "      <td>Ram</td>\n",
       "      <td>12000.000000</td>\n",
       "      <td>Grocery</td>\n",
       "      <td>Offline</td>\n",
       "      <td>Pune</td>\n",
       "      <td>2023-01-12</td>\n",
       "      <td>15.0</td>\n",
       "    </tr>\n",
       "    <tr>\n",
       "      <th>1</th>\n",
       "      <td>253</td>\n",
       "      <td>Sham</td>\n",
       "      <td>10000.000000</td>\n",
       "      <td>Food</td>\n",
       "      <td>Online</td>\n",
       "      <td>Nagpur</td>\n",
       "      <td>2023-02-15</td>\n",
       "      <td>20.0</td>\n",
       "    </tr>\n",
       "    <tr>\n",
       "      <th>2</th>\n",
       "      <td>555</td>\n",
       "      <td>Tony</td>\n",
       "      <td>30000.000000</td>\n",
       "      <td>Clothing</td>\n",
       "      <td>Online</td>\n",
       "      <td>Chennai</td>\n",
       "      <td>2023-03-10</td>\n",
       "      <td>10.0</td>\n",
       "    </tr>\n",
       "    <tr>\n",
       "      <th>3</th>\n",
       "      <td>789</td>\n",
       "      <td>Jack</td>\n",
       "      <td>44000.000000</td>\n",
       "      <td>Food</td>\n",
       "      <td>Online</td>\n",
       "      <td>Bangalore</td>\n",
       "      <td>2023-04-05</td>\n",
       "      <td>25.0</td>\n",
       "    </tr>\n",
       "    <tr>\n",
       "      <th>4</th>\n",
       "      <td>544</td>\n",
       "      <td>Luke</td>\n",
       "      <td>19061.714286</td>\n",
       "      <td>Waste</td>\n",
       "      <td>Offline</td>\n",
       "      <td>Delhi</td>\n",
       "      <td>2023-05-20</td>\n",
       "      <td>5.0</td>\n",
       "    </tr>\n",
       "    <tr>\n",
       "      <th>5</th>\n",
       "      <td>123</td>\n",
       "      <td>Gopal</td>\n",
       "      <td>12433.000000</td>\n",
       "      <td>Electronics</td>\n",
       "      <td>Unknown</td>\n",
       "      <td>Mumbai</td>\n",
       "      <td>2023-06-25</td>\n",
       "      <td>50.0</td>\n",
       "    </tr>\n",
       "    <tr>\n",
       "      <th>6</th>\n",
       "      <td>365</td>\n",
       "      <td>Karan</td>\n",
       "      <td>9999.000000</td>\n",
       "      <td>Clothing</td>\n",
       "      <td>Unknown</td>\n",
       "      <td>Jammu</td>\n",
       "      <td>2023-07-19</td>\n",
       "      <td>18.0</td>\n",
       "    </tr>\n",
       "    <tr>\n",
       "      <th>7</th>\n",
       "      <td>963</td>\n",
       "      <td>Tina</td>\n",
       "      <td>15000.000000</td>\n",
       "      <td>Grocery</td>\n",
       "      <td>Online</td>\n",
       "      <td>Bhopal</td>\n",
       "      <td>2023-08-01</td>\n",
       "      <td>18.0</td>\n",
       "    </tr>\n",
       "  </tbody>\n",
       "</table>\n",
       "</div>"
      ],
      "text/plain": [
       "    ID Salesman         Sales Product_Type Sales_Channel    Address  \\\n",
       "0  101      Ram  12000.000000      Grocery       Offline       Pune   \n",
       "1  253     Sham  10000.000000         Food        Online     Nagpur   \n",
       "2  555     Tony  30000.000000     Clothing        Online    Chennai   \n",
       "3  789     Jack  44000.000000         Food        Online  Bangalore   \n",
       "4  544     Luke  19061.714286        Waste       Offline      Delhi   \n",
       "5  123    Gopal  12433.000000  Electronics       Unknown     Mumbai   \n",
       "6  365    Karan   9999.000000     Clothing       Unknown      Jammu   \n",
       "7  963     Tina  15000.000000      Grocery        Online     Bhopal   \n",
       "\n",
       "         Date  Units_Sold  \n",
       "0  2023-01-12        15.0  \n",
       "1  2023-02-15        20.0  \n",
       "2  2023-03-10        10.0  \n",
       "3  2023-04-05        25.0  \n",
       "4  2023-05-20         5.0  \n",
       "5  2023-06-25        50.0  \n",
       "6  2023-07-19        18.0  \n",
       "7  2023-08-01        18.0  "
      ]
     },
     "execution_count": 36,
     "metadata": {},
     "output_type": "execute_result"
    }
   ],
   "source": [
    "df.head(10)"
   ]
  },
  {
   "cell_type": "code",
   "execution_count": 37,
   "id": "99ff848f",
   "metadata": {},
   "outputs": [],
   "source": [
    "#Data Transformation\n",
    "##adding an extra column for sales per unit distribution\n",
    "\n",
    "df['Sales_Per_Unit'] = df['Sales'] / df['Units_Sold']"
   ]
  },
  {
   "cell_type": "code",
   "execution_count": 38,
   "id": "aa64d81b",
   "metadata": {},
   "outputs": [
    {
     "data": {
      "text/html": [
       "<div>\n",
       "<style scoped>\n",
       "    .dataframe tbody tr th:only-of-type {\n",
       "        vertical-align: middle;\n",
       "    }\n",
       "\n",
       "    .dataframe tbody tr th {\n",
       "        vertical-align: top;\n",
       "    }\n",
       "\n",
       "    .dataframe thead th {\n",
       "        text-align: right;\n",
       "    }\n",
       "</style>\n",
       "<table border=\"1\" class=\"dataframe\">\n",
       "  <thead>\n",
       "    <tr style=\"text-align: right;\">\n",
       "      <th></th>\n",
       "      <th>ID</th>\n",
       "      <th>Salesman</th>\n",
       "      <th>Sales</th>\n",
       "      <th>Product_Type</th>\n",
       "      <th>Sales_Channel</th>\n",
       "      <th>Address</th>\n",
       "      <th>Date</th>\n",
       "      <th>Units_Sold</th>\n",
       "      <th>Sales_Per_Unit</th>\n",
       "    </tr>\n",
       "  </thead>\n",
       "  <tbody>\n",
       "    <tr>\n",
       "      <th>0</th>\n",
       "      <td>101</td>\n",
       "      <td>Ram</td>\n",
       "      <td>12000.000000</td>\n",
       "      <td>Grocery</td>\n",
       "      <td>Offline</td>\n",
       "      <td>Pune</td>\n",
       "      <td>2023-01-12</td>\n",
       "      <td>15.0</td>\n",
       "      <td>800.000000</td>\n",
       "    </tr>\n",
       "    <tr>\n",
       "      <th>1</th>\n",
       "      <td>253</td>\n",
       "      <td>Sham</td>\n",
       "      <td>10000.000000</td>\n",
       "      <td>Food</td>\n",
       "      <td>Online</td>\n",
       "      <td>Nagpur</td>\n",
       "      <td>2023-02-15</td>\n",
       "      <td>20.0</td>\n",
       "      <td>500.000000</td>\n",
       "    </tr>\n",
       "    <tr>\n",
       "      <th>2</th>\n",
       "      <td>555</td>\n",
       "      <td>Tony</td>\n",
       "      <td>30000.000000</td>\n",
       "      <td>Clothing</td>\n",
       "      <td>Online</td>\n",
       "      <td>Chennai</td>\n",
       "      <td>2023-03-10</td>\n",
       "      <td>10.0</td>\n",
       "      <td>3000.000000</td>\n",
       "    </tr>\n",
       "    <tr>\n",
       "      <th>3</th>\n",
       "      <td>789</td>\n",
       "      <td>Jack</td>\n",
       "      <td>44000.000000</td>\n",
       "      <td>Food</td>\n",
       "      <td>Online</td>\n",
       "      <td>Bangalore</td>\n",
       "      <td>2023-04-05</td>\n",
       "      <td>25.0</td>\n",
       "      <td>1760.000000</td>\n",
       "    </tr>\n",
       "    <tr>\n",
       "      <th>4</th>\n",
       "      <td>544</td>\n",
       "      <td>Luke</td>\n",
       "      <td>19061.714286</td>\n",
       "      <td>Waste</td>\n",
       "      <td>Offline</td>\n",
       "      <td>Delhi</td>\n",
       "      <td>2023-05-20</td>\n",
       "      <td>5.0</td>\n",
       "      <td>3812.342857</td>\n",
       "    </tr>\n",
       "  </tbody>\n",
       "</table>\n",
       "</div>"
      ],
      "text/plain": [
       "    ID Salesman         Sales Product_Type Sales_Channel    Address  \\\n",
       "0  101      Ram  12000.000000      Grocery       Offline       Pune   \n",
       "1  253     Sham  10000.000000         Food        Online     Nagpur   \n",
       "2  555     Tony  30000.000000     Clothing        Online    Chennai   \n",
       "3  789     Jack  44000.000000         Food        Online  Bangalore   \n",
       "4  544     Luke  19061.714286        Waste       Offline      Delhi   \n",
       "\n",
       "         Date  Units_Sold  Sales_Per_Unit  \n",
       "0  2023-01-12        15.0      800.000000  \n",
       "1  2023-02-15        20.0      500.000000  \n",
       "2  2023-03-10        10.0     3000.000000  \n",
       "3  2023-04-05        25.0     1760.000000  \n",
       "4  2023-05-20         5.0     3812.342857  "
      ]
     },
     "execution_count": 38,
     "metadata": {},
     "output_type": "execute_result"
    }
   ],
   "source": [
    "df.head()"
   ]
  },
  {
   "cell_type": "code",
   "execution_count": 39,
   "id": "b3171255",
   "metadata": {
    "scrolled": true
   },
   "outputs": [
    {
     "name": "stdout",
     "output_type": "stream",
     "text": [
      "Total sales :  152493.7142857143\n"
     ]
    }
   ],
   "source": [
    "total_sales = df['Sales'].sum()\n",
    "\n",
    "print('Total sales : ', total_sales)"
   ]
  },
  {
   "cell_type": "markdown",
   "id": "2a454bbc",
   "metadata": {},
   "source": [
    "### Data Viz"
   ]
  },
  {
   "cell_type": "code",
   "execution_count": 40,
   "id": "dab480c5",
   "metadata": {},
   "outputs": [],
   "source": [
    "# Grouping data by Product_Type and Sales_Channel to get total Sales\n",
    "sales_by_product_channel = df.groupby(['Product_Type', 'Sales_Channel'])['Sales'].sum().reset_index()"
   ]
  },
  {
   "cell_type": "code",
   "execution_count": 41,
   "id": "71dcc8ef",
   "metadata": {},
   "outputs": [
    {
     "data": {
      "image/png": "[encoded data removed]",
      "text/plain": [
       "<Figure size 720x432 with 1 Axes>"
      ]
     },
     "metadata": {
      "needs_background": "light"
     },
     "output_type": "display_data"
    }
   ],
   "source": [
    "plt.figure(figsize=(10, 6))\n",
    "sns.barplot(data = sales_by_product_channel, x='Product_Type', y= 'Sales', hue='Sales_Channel')\n",
    "plt.title('Sales by Product Type and Sales Channel')\n",
    "plt.xlabel('Product Type')\n",
    "plt.ylabel('Total Sales')\n",
    "plt.legend(title='Sales Channel')\n",
    "plt.show()"
   ]
  },
  {
   "cell_type": "code",
   "execution_count": 42,
   "id": "e3ba5c8c",
   "metadata": {},
   "outputs": [
    {
     "data": {
      "image/png": "[encoded data removed]",
      "text/plain": [
       "<Figure size 576x432 with 1 Axes>"
      ]
     },
     "metadata": {
      "needs_background": "light"
     },
     "output_type": "display_data"
    }
   ],
   "source": [
    "#Untis sold by sales channel\n",
    "units_by_channel = df.groupby('Sales_Channel')['Units_Sold'].sum().reset_index()\n",
    "\n",
    "plt.figure(figsize=(8, 6))\n",
    "sns.barplot(data=units_by_channel, x='Sales_Channel', y='Units_Sold')\n",
    "plt.title('Total Units Sold by Sales Channel')\n",
    "plt.xlabel('Sales Channel')\n",
    "plt.ylabel('Total Units Sold')\n",
    "plt.show()"
   ]
  },
  {
   "cell_type": "code",
   "execution_count": 43,
   "id": "fc547ec5",
   "metadata": {},
   "outputs": [
    {
     "name": "stdout",
     "output_type": "stream",
     "text": [
      "Product Distrib : Grocery        2\n",
      "Food           2\n",
      "Clothing       2\n",
      "Waste          1\n",
      "Electronics    1\n",
      "Name: Product_Type, dtype: int64\n"
     ]
    },
    {
     "data": {
      "image/png": "[encoded data removed]",
      "text/plain": [
       "<Figure size 576x576 with 1 Axes>"
      ]
     },
     "metadata": {},
     "output_type": "display_data"
    }
   ],
   "source": [
    "product_distribution = df['Product_Type'].value_counts()\n",
    "print(f'Product Distrib : {product_distribution}')\n",
    "\n",
    "#Pie chart - product category distribution \n",
    "plt.figure(figsize=(8, 8))\n",
    "plt.pie(product_distribution, labels=product_distribution.index)\n",
    "plt.title('Product Category Distribution')\n",
    "plt.show()"
   ]
  },
  {
   "cell_type": "code",
   "execution_count": null,
   "id": "fb1562db",
   "metadata": {},
   "outputs": [],
   "source": []
  },
  {
   "cell_type": "code",
   "execution_count": null,
   "id": "13d8f4f8",
   "metadata": {},
   "outputs": [],
   "source": []
  }
 ],
 "metadata": {
  "kernelspec": {
   "display_name": "Python 3 (ipykernel)",
   "language": "python",
   "name": "python3"
  },
  "language_info": {
   "codemirror_mode": {
    "name": "ipython",
    "version": 3
   },
   "file_extension": ".py",
   "mimetype": "text/x-python",
   "name": "python",
   "nbconvert_exporter": "python",
   "pygments_lexer": "ipython3",
   "version": "3.9.7"
  }
 },
 "nbformat": 4,
 "nbformat_minor": 5
}
