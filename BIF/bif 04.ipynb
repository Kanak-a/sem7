{
 "cells": [
  {
   "cell_type": "code",
   "execution_count": 1,
   "id": "3961dda1",
   "metadata": {},
   "outputs": [],
   "source": [
    "import pandas as pd\n",
    "import numpy as np\n",
    "import matplotlib.pyplot as plt\n",
    "import seaborn as sns\n",
    "from sklearn.model_selection import train_test_split\n",
    "from sklearn.ensemble import RandomForestClassifier\n",
    "from sklearn.metrics import classification_report, accuracy_score\n",
    "from sklearn.preprocessing import LabelEncoder, StandardScaler\n",
    "from sklearn.pipeline import make_pipeline\n",
    "from sklearn.svm import SVC\n",
    "from sklearn.impute import SimpleImputer"
   ]
  },
  {
   "cell_type": "code",
   "execution_count": 2,
   "id": "7e970af7",
   "metadata": {},
   "outputs": [],
   "source": [
    "# Load the genomic dataset (replace 'genomic_data.csv' with your dataset path)\n",
    "data = pd.read_csv(\"D:\\BE\\BIF\\datasets\\Genomics.csv\")"
   ]
  },
  {
   "cell_type": "code",
   "execution_count": 3,
   "id": "d78e03ba",
   "metadata": {},
   "outputs": [
    {
     "data": {
      "text/html": [
       "<div>\n",
       "<style scoped>\n",
       "    .dataframe tbody tr th:only-of-type {\n",
       "        vertical-align: middle;\n",
       "    }\n",
       "\n",
       "    .dataframe tbody tr th {\n",
       "        vertical-align: top;\n",
       "    }\n",
       "\n",
       "    .dataframe thead th {\n",
       "        text-align: right;\n",
       "    }\n",
       "</style>\n",
       "<table border=\"1\" class=\"dataframe\">\n",
       "  <thead>\n",
       "    <tr style=\"text-align: right;\">\n",
       "      <th></th>\n",
       "      <th>date</th>\n",
       "      <th>area</th>\n",
       "      <th>area_type</th>\n",
       "      <th>variant_name</th>\n",
       "      <th>specimens</th>\n",
       "      <th>percentage</th>\n",
       "      <th>specimens_7d_avg</th>\n",
       "      <th>percentage_7d_avg</th>\n",
       "    </tr>\n",
       "  </thead>\n",
       "  <tbody>\n",
       "    <tr>\n",
       "      <th>0</th>\n",
       "      <td>01-01-2021</td>\n",
       "      <td>California</td>\n",
       "      <td>State</td>\n",
       "      <td>Alpha</td>\n",
       "      <td>1</td>\n",
       "      <td>1.69</td>\n",
       "      <td>NaN</td>\n",
       "      <td>NaN</td>\n",
       "    </tr>\n",
       "    <tr>\n",
       "      <th>1</th>\n",
       "      <td>01-01-2021</td>\n",
       "      <td>California</td>\n",
       "      <td>State</td>\n",
       "      <td>Lambda</td>\n",
       "      <td>0</td>\n",
       "      <td>0.00</td>\n",
       "      <td>NaN</td>\n",
       "      <td>NaN</td>\n",
       "    </tr>\n",
       "    <tr>\n",
       "      <th>2</th>\n",
       "      <td>01-01-2021</td>\n",
       "      <td>California</td>\n",
       "      <td>State</td>\n",
       "      <td>Other</td>\n",
       "      <td>29</td>\n",
       "      <td>49.15</td>\n",
       "      <td>NaN</td>\n",
       "      <td>NaN</td>\n",
       "    </tr>\n",
       "    <tr>\n",
       "      <th>3</th>\n",
       "      <td>01-01-2021</td>\n",
       "      <td>California</td>\n",
       "      <td>State</td>\n",
       "      <td>Epsilon</td>\n",
       "      <td>28</td>\n",
       "      <td>47.46</td>\n",
       "      <td>NaN</td>\n",
       "      <td>NaN</td>\n",
       "    </tr>\n",
       "    <tr>\n",
       "      <th>4</th>\n",
       "      <td>01-01-2021</td>\n",
       "      <td>California</td>\n",
       "      <td>State</td>\n",
       "      <td>Omicron</td>\n",
       "      <td>1</td>\n",
       "      <td>1.69</td>\n",
       "      <td>NaN</td>\n",
       "      <td>NaN</td>\n",
       "    </tr>\n",
       "  </tbody>\n",
       "</table>\n",
       "</div>"
      ],
      "text/plain": [
       "         date        area area_type variant_name  specimens  percentage  \\\n",
       "0  01-01-2021  California     State        Alpha          1        1.69   \n",
       "1  01-01-2021  California     State       Lambda          0        0.00   \n",
       "2  01-01-2021  California     State        Other         29       49.15   \n",
       "3  01-01-2021  California     State      Epsilon         28       47.46   \n",
       "4  01-01-2021  California     State      Omicron          1        1.69   \n",
       "\n",
       "   specimens_7d_avg  percentage_7d_avg  \n",
       "0               NaN                NaN  \n",
       "1               NaN                NaN  \n",
       "2               NaN                NaN  \n",
       "3               NaN                NaN  \n",
       "4               NaN                NaN  "
      ]
     },
     "execution_count": 3,
     "metadata": {},
     "output_type": "execute_result"
    }
   ],
   "source": [
    "# Preview the dataset\n",
    "data.head()"
   ]
  },
  {
   "cell_type": "code",
   "execution_count": 5,
   "id": "7bda1d82",
   "metadata": {},
   "outputs": [
    {
     "name": "stdout",
     "output_type": "stream",
     "text": [
      "<class 'pandas.core.frame.DataFrame'>\n",
      "RangeIndex: 7790 entries, 0 to 7789\n",
      "Data columns (total 8 columns):\n",
      " #   Column             Non-Null Count  Dtype  \n",
      "---  ------             --------------  -----  \n",
      " 0   date               7790 non-null   object \n",
      " 1   area               7790 non-null   object \n",
      " 2   area_type          7790 non-null   object \n",
      " 3   variant_name       7790 non-null   object \n",
      " 4   specimens          7790 non-null   int64  \n",
      " 5   percentage         7790 non-null   float64\n",
      " 6   specimens_7d_avg   7730 non-null   float64\n",
      " 7   percentage_7d_avg  7730 non-null   float64\n",
      "dtypes: float64(3), int64(1), object(4)\n",
      "memory usage: 487.0+ KB\n"
     ]
    }
   ],
   "source": [
    "data.info()"
   ]
  },
  {
   "cell_type": "code",
   "execution_count": 6,
   "id": "0447f29a",
   "metadata": {},
   "outputs": [
    {
     "data": {
      "text/plain": [
       "\"<class 'pandas.core.frame.DataFrame'>\\nRangeIndex: 7790 entries, 0 to 7789\\nData columns (total 8 columns):\\n #   Column             Non-Null Count  Dtype  \\n---  ------             --------------  -----  \\n 0   date               7790 non-null   object \\n 1   area               7790 non-null   object \\n 2   area_type          7790 non-null   object \\n 3   variant_name       7790 non-null   object \\n 4   specimens          7790 non-null   int64  \\n 5   percentage         7790 non-null   float64\\n 6   specimens_7d_avg   7730 non-null   float64\\n 7   percentage_7d_avg  7730 non-null   float64\\ndtypes: float64(3), int64(1), object(4)\\nmemory usage: 487.0+ KB\""
      ]
     },
     "execution_count": 6,
     "metadata": {},
     "output_type": "execute_result"
    }
   ],
   "source": [
    "\"\"\"<class 'pandas.core.frame.DataFrame'>\n",
    "RangeIndex: 7790 entries, 0 to 7789\n",
    "Data columns (total 8 columns):\n",
    " #   Column             Non-Null Count  Dtype  \n",
    "---  ------             --------------  -----  \n",
    " 0   date               7790 non-null   object \n",
    " 1   area               7790 non-null   object \n",
    " 2   area_type          7790 non-null   object \n",
    " 3   variant_name       7790 non-null   object \n",
    " 4   specimens          7790 non-null   int64  \n",
    " 5   percentage         7790 non-null   float64\n",
    " 6   specimens_7d_avg   7730 non-null   float64\n",
    " 7   percentage_7d_avg  7730 non-null   float64\n",
    "dtypes: float64(3), int64(1), object(4)\n",
    "memory usage: 487.0+ KB\"\"\""
   ]
  },
  {
   "cell_type": "code",
   "execution_count": 7,
   "id": "f2aac63d",
   "metadata": {},
   "outputs": [],
   "source": [
    "# Imputing missing values using the mean strategy for numeric columns\n",
    "imputer = SimpleImputer(strategy='mean')\n",
    "data[['specimens_7d_avg', 'percentage_7d_avg']] = imputer.fit_transform(data[['specimens_7d_avg', 'percentage_7d_avg']])"
   ]
  },
  {
   "cell_type": "code",
   "execution_count": 8,
   "id": "dd342159",
   "metadata": {},
   "outputs": [],
   "source": [
    "label_encoder = LabelEncoder()\n",
    "data['variant_label'] = label_encoder.fit_transform(data['variant_name'])"
   ]
  },
  {
   "cell_type": "code",
   "execution_count": 9,
   "id": "6e3b9d4d",
   "metadata": {},
   "outputs": [],
   "source": [
    "# Features (X) and target (y)\n",
    "X = data[['specimens', 'percentage', 'specimens_7d_avg', 'percentage_7d_avg']].values\n",
    "y = data['variant_label'].values"
   ]
  },
  {
   "cell_type": "code",
   "execution_count": 10,
   "id": "2abdd11d",
   "metadata": {},
   "outputs": [],
   "source": [
    "# Splitting the data into training and testing sets\n",
    "X_train, X_test, y_train, y_test = train_test_split(X, y, test_size=0.3, random_state=42)"
   ]
  },
  {
   "cell_type": "code",
   "execution_count": 11,
   "id": "224c8953",
   "metadata": {},
   "outputs": [
    {
     "data": {
      "text/plain": [
       "Pipeline(steps=[('standardscaler', StandardScaler()),\n",
       "                ('svc', SVC(random_state=42))])"
      ]
     },
     "execution_count": 11,
     "metadata": {},
     "output_type": "execute_result"
    }
   ],
   "source": [
    "# Creating a pipeline with scaling and SVM classifier\n",
    "pipeline = make_pipeline(StandardScaler(), SVC(kernel='rbf', random_state=42))\n",
    "pipeline.fit(X_train, y_train)"
   ]
  },
  {
   "cell_type": "code",
   "execution_count": 12,
   "id": "0d34be48",
   "metadata": {},
   "outputs": [],
   "source": [
    "# Making predictions using the SVM model\n",
    "y_pred_svm = pipeline.predict(X_test)"
   ]
  },
  {
   "cell_type": "code",
   "execution_count": 13,
   "id": "dadb5d14",
   "metadata": {},
   "outputs": [],
   "source": [
    "# Adjusting target names based on the unique classes in the test set\n",
    "unique_labels = np.unique(y_test)\n",
    "target_names = [label_encoder.inverse_transform([i])[0] for i in unique_labels]"
   ]
  },
  {
   "cell_type": "code",
   "execution_count": 14,
   "id": "be6b5229",
   "metadata": {},
   "outputs": [
    {
     "name": "stderr",
     "output_type": "stream",
     "text": [
      "C:\\Users\\HP\\anaconda3\\lib\\site-packages\\sklearn\\metrics\\_classification.py:1248: UndefinedMetricWarning: Precision and F-score are ill-defined and being set to 0.0 in labels with no predicted samples. Use `zero_division` parameter to control this behavior.\n",
      "  _warn_prf(average, modifier, msg_start, len(result))\n",
      "C:\\Users\\HP\\anaconda3\\lib\\site-packages\\sklearn\\metrics\\_classification.py:1248: UndefinedMetricWarning: Precision and F-score are ill-defined and being set to 0.0 in labels with no predicted samples. Use `zero_division` parameter to control this behavior.\n",
      "  _warn_prf(average, modifier, msg_start, len(result))\n",
      "C:\\Users\\HP\\anaconda3\\lib\\site-packages\\sklearn\\metrics\\_classification.py:1248: UndefinedMetricWarning: Precision and F-score are ill-defined and being set to 0.0 in labels with no predicted samples. Use `zero_division` parameter to control this behavior.\n",
      "  _warn_prf(average, modifier, msg_start, len(result))\n"
     ]
    }
   ],
   "source": [
    "# Evaluating the SVM model\n",
    "accuracy_svm = accuracy_score(y_test, y_pred_svm)\n",
    "classification_rep_svm = classification_report(y_test, y_pred_svm, target_names=target_names)"
   ]
  },
  {
   "cell_type": "code",
   "execution_count": 15,
   "id": "5e32166a",
   "metadata": {},
   "outputs": [
    {
     "name": "stdout",
     "output_type": "stream",
     "text": [
      "Accuracy (SVM): 0.24\n",
      "Classification Report (SVM):\n",
      "              precision    recall  f1-score   support\n",
      "\n",
      "       Alpha       0.85      0.10      0.17       229\n",
      "        Beta       0.00      0.00      0.00       240\n",
      "       Delta       0.50      0.02      0.04       216\n",
      "     Epsilon       0.68      0.07      0.12       249\n",
      "       Gamma       0.31      0.07      0.12       254\n",
      "      Lambda       0.13      0.99      0.23       227\n",
      "          Mu       0.00      0.00      0.00       232\n",
      "     Omicron       0.00      0.00      0.00       232\n",
      "       Other       0.40      0.20      0.27       230\n",
      "       Total       0.58      0.99      0.73       228\n",
      "\n",
      "    accuracy                           0.24      2337\n",
      "   macro avg       0.34      0.24      0.17      2337\n",
      "weighted avg       0.34      0.24      0.17      2337\n",
      "\n"
     ]
    }
   ],
   "source": [
    "# Displaying the accuracy and classification report for the SVM model\n",
    "print(f\"Accuracy (SVM): {accuracy_svm:.2f}\")\n",
    "print(\"Classification Report (SVM):\")\n",
    "print(classification_rep_svm)"
   ]
  },
  {
   "cell_type": "code",
   "execution_count": 16,
   "id": "1853de6a",
   "metadata": {},
   "outputs": [
    {
     "data": {
      "text/plain": [
       "RandomForestClassifier(random_state=42)"
      ]
     },
     "execution_count": 16,
     "metadata": {},
     "output_type": "execute_result"
    }
   ],
   "source": [
    "# Initializing and training the Random Forest Classifier\n",
    "rf_classifier = RandomForestClassifier(n_estimators=100, random_state=42)\n",
    "rf_classifier.fit(X_train, y_train)"
   ]
  },
  {
   "cell_type": "code",
   "execution_count": 17,
   "id": "b458049c",
   "metadata": {},
   "outputs": [],
   "source": [
    "y_pred = rf_classifier.predict(X_test)"
   ]
  },
  {
   "cell_type": "code",
   "execution_count": 18,
   "id": "eab27a7f",
   "metadata": {},
   "outputs": [],
   "source": [
    "unique_labels = np.unique(y_test)\n",
    "target_names = [label_encoder.inverse_transform([i])[0] for i in unique_labels]"
   ]
  },
  {
   "cell_type": "code",
   "execution_count": 19,
   "id": "ea724e16",
   "metadata": {},
   "outputs": [],
   "source": [
    "accuracy = accuracy_score(y_test, y_pred)\n",
    "classification_rep = classification_report(y_test, y_pred, target_names=target_names)"
   ]
  },
  {
   "cell_type": "code",
   "execution_count": 20,
   "id": "ce9880f9",
   "metadata": {},
   "outputs": [
    {
     "name": "stdout",
     "output_type": "stream",
     "text": [
      "Accuracy: 0.42\n",
      "Classification Report:\n",
      "              precision    recall  f1-score   support\n",
      "\n",
      "       Alpha       0.62      0.21      0.31       229\n",
      "        Beta       0.17      0.85      0.28       240\n",
      "       Delta       0.58      0.32      0.41       216\n",
      "     Epsilon       0.54      0.15      0.24       249\n",
      "       Gamma       0.42      0.13      0.19       254\n",
      "      Lambda       0.29      0.07      0.12       227\n",
      "          Mu       0.33      0.09      0.14       232\n",
      "     Omicron       0.73      0.55      0.63       232\n",
      "       Other       0.68      0.81      0.74       230\n",
      "       Total       1.00      1.00      1.00       228\n",
      "\n",
      "    accuracy                           0.42      2337\n",
      "   macro avg       0.54      0.42      0.41      2337\n",
      "weighted avg       0.53      0.42      0.40      2337\n",
      "\n"
     ]
    }
   ],
   "source": [
    "# Displaying the accuracy and classification report\n",
    "print(f\"Accuracy: {accuracy:.2f}\")\n",
    "print(\"Classification Report:\")\n",
    "print(classification_rep)"
   ]
  },
  {
   "cell_type": "code",
   "execution_count": 21,
   "id": "0ddda670",
   "metadata": {},
   "outputs": [
    {
     "name": "stdout",
     "output_type": "stream",
     "text": [
      "Accuracy (SVM): 0.21\n",
      "Classification Report (SVM):\n",
      "              precision    recall  f1-score   support\n",
      "\n",
      "       Alpha       0.32      0.07      0.11       229\n",
      "        Beta       0.00      0.00      0.00       240\n",
      "       Delta       0.00      0.00      0.00       216\n",
      "     Epsilon       0.64      0.03      0.05       249\n",
      "       Gamma       0.00      0.00      0.00       254\n",
      "      Lambda       0.13      1.00      0.22       227\n",
      "          Mu       0.00      0.00      0.00       232\n",
      "     Omicron       0.00      0.00      0.00       232\n",
      "       Other       0.25      0.09      0.13       230\n",
      "       Total       0.55      0.98      0.71       228\n",
      "\n",
      "    accuracy                           0.21      2337\n",
      "   macro avg       0.19      0.22      0.12      2337\n",
      "weighted avg       0.19      0.21      0.12      2337\n",
      "\n"
     ]
    },
    {
     "name": "stderr",
     "output_type": "stream",
     "text": [
      "C:\\Users\\HP\\anaconda3\\lib\\site-packages\\sklearn\\metrics\\_classification.py:1248: UndefinedMetricWarning: Precision and F-score are ill-defined and being set to 0.0 in labels with no predicted samples. Use `zero_division` parameter to control this behavior.\n",
      "  _warn_prf(average, modifier, msg_start, len(result))\n",
      "C:\\Users\\HP\\anaconda3\\lib\\site-packages\\sklearn\\metrics\\_classification.py:1248: UndefinedMetricWarning: Precision and F-score are ill-defined and being set to 0.0 in labels with no predicted samples. Use `zero_division` parameter to control this behavior.\n",
      "  _warn_prf(average, modifier, msg_start, len(result))\n",
      "C:\\Users\\HP\\anaconda3\\lib\\site-packages\\sklearn\\metrics\\_classification.py:1248: UndefinedMetricWarning: Precision and F-score are ill-defined and being set to 0.0 in labels with no predicted samples. Use `zero_division` parameter to control this behavior.\n",
      "  _warn_prf(average, modifier, msg_start, len(result))\n"
     ]
    }
   ],
   "source": [
    "# Initializing and training the Support Vector Classifier (SVM)\n",
    "svm_classifier = SVC(kernel='rbf', random_state=42)\n",
    "svm_classifier.fit(X_train, y_train)\n",
    "\n",
    "# Making predictions using the SVM model\n",
    "y_pred_svm = svm_classifier.predict(X_test)\n",
    "\n",
    "# Evaluating the SVM model\n",
    "accuracy_svm = accuracy_score(y_test, y_pred_svm)\n",
    "classification_rep_svm = classification_report(y_test, y_pred_svm, target_names=target_names)\n",
    "\n",
    "# Displaying the accuracy and classification report for the SVM model\n",
    "print(f\"Accuracy (SVM): {accuracy_svm:.2f}\")\n",
    "print(\"Classification Report (SVM):\")\n",
    "print(classification_rep_svm)"
   ]
  },
  {
   "cell_type": "code",
   "execution_count": 22,
   "id": "d395e4ce",
   "metadata": {},
   "outputs": [
    {
     "data": {
      "text/plain": [
       "<Figure size 864x432 with 0 Axes>"
      ]
     },
     "metadata": {},
     "output_type": "display_data"
    },
    {
     "data": {
      "image/png": "[encoded data removed]",
      "text/plain": [
       "<Figure size 432x288 with 1 Axes>"
      ]
     },
     "metadata": {
      "needs_background": "light"
     },
     "output_type": "display_data"
    }
   ],
   "source": [
    "import matplotlib.pyplot as plt\n",
    "import seaborn as sns\n",
    "\n",
    "models = ['SVM', 'Random Forest']\n",
    "accuracy_scores = [0.24, 0.42]  \n",
    "f1_scores = [\n",
    "    (0.12 + 0.00 + 0.00 + 0.06 + 0.00 + 0.22 + 0.00 + 0.00 + 0.13) / 9,  # Average F1 for SVM\n",
    "    (0.33 + 0.29 + 0.43 + 0.21 + 0.19 + 0.12 + 0.15 + 0.64 + 0.75) / 9  # Average F1 for RF\n",
    "]\n",
    "\n",
    "\n",
    "performance_data = {\n",
    "    'Model': models,\n",
    "    'Accuracy': accuracy_scores,\n",
    "    'F1 Score': f1_scores\n",
    "}\n",
    "\n",
    "performance_df = pd.DataFrame(performance_data)\n",
    "\n",
    "plt.figure(figsize=(12, 6))\n",
    "\n",
    "performance_df.set_index('Model').plot(kind='bar', color=['skyblue', 'lightgreen'], edgecolor='black')\n",
    "\n",
    "\n",
    "plt.title('Model Performance Comparison')\n",
    "plt.xlabel('Models')\n",
    "plt.ylabel('Scores')\n",
    "plt.xticks(rotation=0)\n",
    "plt.ylim(0, 1)\n",
    "\n",
    "for i in range(len(performance_df)):\n",
    "    plt.text(i, performance_df['Accuracy'][i] + 0.02, round(performance_df['Accuracy'][i], 2), ha='center', fontsize=12)\n",
    "    plt.text(i, performance_df['F1 Score'][i] + 0.02, round(performance_df['F1 Score'][i], 2), ha='center', fontsize=12)\n",
    "\n",
    "#plot\n",
    "plt.tight_layout()\n",
    "plt.legend(title='Metrics')\n",
    "plt.show()\n"
   ]
  },
  {
   "cell_type": "code",
   "execution_count": null,
   "id": "c464b2e4",
   "metadata": {},
   "outputs": [],
   "source": []
  }
 ],
 "metadata": {
  "kernelspec": {
   "display_name": "Python 3 (ipykernel)",
   "language": "python",
   "name": "python3"
  },
  "language_info": {
   "codemirror_mode": {
    "name": "ipython",
    "version": 3
   },
   "file_extension": ".py",
   "mimetype": "text/x-python",
   "name": "python",
   "nbconvert_exporter": "python",
   "pygments_lexer": "ipython3",
   "version": "3.9.7"
  }
 },
 "nbformat": 4,
 "nbformat_minor": 5
}
