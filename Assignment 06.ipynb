{
 "cells": [
  {
   "cell_type": "markdown",
   "id": "142b90be",
   "metadata": {},
   "source": [
    "## Assignment 06  🧩\n",
    "\n",
    "**Aim:**  Implement Reinforcement Learning using an example of a maze environment that the\n",
    "agent needs to explore.\n",
    "\n",
    "**Student:** Kanaka Amin \n",
    "**Class:** BE | **Roll No:** 42501"
   ]
  },
  {
   "cell_type": "code",
   "execution_count": 2,
   "id": "a5ddc9b5",
   "metadata": {},
   "outputs": [],
   "source": [
    "import numpy as np\n",
    "import matplotlib.pyplot as plt\n",
    "import seaborn as sns"
   ]
  },
  {
   "cell_type": "code",
   "execution_count": 3,
   "id": "3ff77e73",
   "metadata": {},
   "outputs": [],
   "source": [
    "maze = np.array([\n",
    "    [0, 0, 0, 1],\n",
    "    [0, 1, 0, 1],\n",
    "    [0, 0, 0, 0],\n",
    "    [2, 1, 3, 0]\n",
    "])"
   ]
  },
  {
   "cell_type": "markdown",
   "id": "f01cc418",
   "metadata": {},
   "source": [
    "**0** represents free spaces. <br>\n",
    "**1** represents walls or obstacles.<br>\n",
    "**2** is the start point.<br>\n",
    "**3** is the goal.<br>"
   ]
  },
  {
   "cell_type": "code",
   "execution_count": 4,
   "id": "4ba3c557",
   "metadata": {},
   "outputs": [],
   "source": [
    "# Maze dimensions\n",
    "rows, cols = maze.shape"
   ]
  },
  {
   "cell_type": "code",
   "execution_count": 5,
   "id": "862b4a59",
   "metadata": {},
   "outputs": [],
   "source": [
    "# Define the start and goal positions\n",
    "start = (3, 0)\n",
    "goal = (3, 2)"
   ]
  },
  {
   "cell_type": "code",
   "execution_count": 6,
   "id": "560f679d",
   "metadata": {},
   "outputs": [],
   "source": [
    "# Possible actions (up, down, left, right)\n",
    "actions = [(-1, 0), (1, 0), (0, -1), (0, 1)]"
   ]
  },
  {
   "cell_type": "code",
   "execution_count": 7,
   "id": "650a4da8",
   "metadata": {},
   "outputs": [],
   "source": [
    "# Parameters\n",
    "alpha = 0.1    # Learning rate\n",
    "gamma = 0.9    # Discount factor\n",
    "epsilon = 0.1  # Exploration rate"
   ]
  },
  {
   "cell_type": "markdown",
   "id": "856049f7",
   "metadata": {},
   "source": [
    "* Learning rate: Determines how much the model adjusts its parameters based on the error during training.\n",
    "\n",
    "* Discount factor: In reinforcement learning, it determines the importance of future rewards relative to immediate ones.\n",
    "\n",
    "* Exploration rate: Controls the balance between exploring new actions and exploiting known good ones in reinforcement learning."
   ]
  },
  {
   "cell_type": "code",
   "execution_count": 8,
   "id": "2848128b",
   "metadata": {},
   "outputs": [],
   "source": [
    "# Q-table (Initialize Q-values for each state-action pair)\n",
    "Q = np.zeros((rows, cols, len(actions)))"
   ]
  },
  {
   "cell_type": "code",
   "execution_count": 9,
   "id": "f5725502",
   "metadata": {},
   "outputs": [],
   "source": [
    "# Function to check if a position is valid\n",
    "def is_valid(pos):\n",
    "    return 0 <= pos[0] < rows and 0 <= pos[1] < cols and maze[pos] != 1"
   ]
  },
  {
   "cell_type": "code",
   "execution_count": 10,
   "id": "e47200ed",
   "metadata": {},
   "outputs": [],
   "source": [
    "def choose_action(state):\n",
    "    if np.random.rand() < epsilon:\n",
    "        return np.random.choice(len(actions))  # Explore\n",
    "    else:\n",
    "        return np.argmax(Q[state[0], state[1], :])  # Exploit"
   ]
  },
  {
   "cell_type": "markdown",
   "id": "5ee0fddf",
   "metadata": {},
   "source": [
    "## Q-learning : \n",
    "* Used in reinforcement learning\n",
    "* "
   ]
  },
  {
   "cell_type": "code",
   "execution_count": 11,
   "id": "e4bc590a",
   "metadata": {},
   "outputs": [],
   "source": [
    "def update_q(state, action, reward, next_state):\n",
    "    old_q = Q[state[0], state[1], action]\n",
    "    next_max_q = np.max(Q[next_state[0], next_state[1], :])\n",
    "    Q[state[0], state[1], action] = old_q + alpha * (reward + gamma * next_max_q - old_q)"
   ]
  },
  {
   "cell_type": "code",
   "execution_count": 12,
   "id": "05c1450e",
   "metadata": {},
   "outputs": [],
   "source": [
    "# Training the agent\n",
    "def train_agent(episodes=1000):\n",
    "    for _ in range(episodes):\n",
    "        state = start\n",
    "        while state != goal:\n",
    "            action = choose_action(state)\n",
    "            next_state = (state[0] + actions[action][0], state[1] + actions[action][1])\n",
    "\n",
    "            if not is_valid(next_state):\n",
    "                next_state = state  # If the action leads to an invalid state, stay in the same place\n",
    "                reward = -1  # Penalty for hitting a wall\n",
    "            elif next_state == goal:\n",
    "                reward = 10  # Reward for reaching the goal\n",
    "            else:\n",
    "                reward = -0.1  # Small negative reward for each step taken\n",
    "\n",
    "            update_q(state, action, reward, next_state)\n",
    "            state = next_state"
   ]
  },
  {
   "cell_type": "code",
   "execution_count": 13,
   "id": "d48cebc0",
   "metadata": {},
   "outputs": [],
   "source": [
    "# Train the agent\n",
    "train_agent()"
   ]
  },
  {
   "cell_type": "code",
   "execution_count": 14,
   "id": "a2a25e81",
   "metadata": {},
   "outputs": [
    {
     "data": {
      "image/png": "[encoded data removed]",
      "text/plain": [
       "<Figure size 432x288 with 1 Axes>"
      ]
     },
     "metadata": {
      "needs_background": "light"
     },
     "output_type": "display_data"
    }
   ],
   "source": [
    "def plot_maze():\n",
    "    path = np.zeros((rows, cols))\n",
    "    state = start\n",
    "    path[state] = 2  # Mark start\n",
    "    while state != goal:\n",
    "        action = np.argmax(Q[state[0], state[1], :])\n",
    "        next_state = (state[0] + actions[action][0], state[1] + actions[action][1])\n",
    "        if not is_valid(next_state) or state == next_state:\n",
    "            break  # Stop if stuck\n",
    "        state = next_state\n",
    "        path[state] = 3  # Mark path\n",
    "    path[goal] = 4  # Mark goal\n",
    "    \n",
    "    plt.imshow(path, cmap='pink', interpolation='nearest')\n",
    "    plt.title('Agent Path through the Maze')\n",
    "    plt.show()\n",
    "\n",
    "# Plot the maze with the agent's path\n",
    "plot_maze()"
   ]
  },
  {
   "cell_type": "code",
   "execution_count": 15,
   "id": "712fcb65",
   "metadata": {},
   "outputs": [
    {
     "name": "stdout",
     "output_type": "stream",
     "text": [
      "Path taken by the agent (from start to goal):\n",
      "(3, 0) -> (2, 0) -> (2, 1) -> (2, 2) -> (3, 2)\n"
     ]
    }
   ],
   "source": [
    "# Visualizing the learned path\n",
    "def visualize_path():\n",
    "    state = start\n",
    "    path = [state]  # Initialize path with the start state\n",
    "    while state != goal:\n",
    "        action = np.argmax(Q[state[0], state[1], :])\n",
    "        next_state = (state[0] + actions[action][0], state[1] + actions[action][1])\n",
    "        if not is_valid(next_state) or state == next_state:\n",
    "            break  # Stop if stuck\n",
    "        state = next_state\n",
    "        path.append(state)  # Append the next state to the path\n",
    "    if state == goal:\n",
    "        print(\"Path taken by the agent (from start to goal):\")\n",
    "        print(\" -> \".join(str(step) for step in path))\n",
    "    else:\n",
    "        print(\"The agent could not find a path to the goal.\")\n",
    "\n",
    "# Visualize the path\n",
    "visualize_path()"
   ]
  },
  {
   "cell_type": "code",
   "execution_count": 16,
   "id": "c3e6a3fe",
   "metadata": {},
   "outputs": [
    {
     "data": {
      "image/png": "[encoded data removed]",
      "text/plain": [
       "<Figure size 360x360 with 1 Axes>"
      ]
     },
     "metadata": {},
     "output_type": "display_data"
    }
   ],
   "source": [
    "import numpy as np\n",
    "import matplotlib.pyplot as plt\n",
    "\n",
    "class Maze:\n",
    "    def __init__(self, maze):\n",
    "        self.maze = maze\n",
    "        self.start_position = self.find_position(2)  # Position of '2' (start)\n",
    "        self.goal_position = self.find_position(3)   # Position of '3' (goal)\n",
    "        self.agent_position = self.start_position    # Initialize the agent at the start position\n",
    "\n",
    "    def find_position(self, value):\n",
    "        # Find the (row, col) position of the given value (start or goal)\n",
    "        result = np.where(self.maze == value)\n",
    "        return (result[0][0], result[1][0])\n",
    "    \n",
    "    def set_agent_position(self, pos):\n",
    "        self.agent_position = pos\n",
    "\n",
    "    def render(self):\n",
    "        # Create a copy of the maze to visualize\n",
    "        visual_maze = self.maze.copy()\n",
    "        \n",
    "        # Highlight the agent's position (using a distinct marker)\n",
    "        agent_x, agent_y = self.agent_position\n",
    "        visual_maze[agent_x, agent_y] = 9  # Mark the agent's position with '9'\n",
    "        \n",
    "        # Create a color map for visualization\n",
    "        color_map = {\n",
    "            0: 'white',  # Free space\n",
    "            1: 'black',  # Wall\n",
    "            2: 'blue',   # Start position\n",
    "            3: 'red',    # Goal position\n",
    "            9: 'green'   # Agent's current position\n",
    "        }\n",
    "\n",
    "        # Prepare the grid for visualization\n",
    "        fig, ax = plt.subplots(figsize=(5, 5))\n",
    "        for i in range(visual_maze.shape[0]):\n",
    "            for j in range(visual_maze.shape[1]):\n",
    "                color = color_map[visual_maze[i, j]]\n",
    "                ax.add_patch(plt.Rectangle((j, i), 1, 1, color=color))\n",
    "        \n",
    "        # Set grid and title\n",
    "        plt.xlim(0, visual_maze.shape[1])\n",
    "        plt.ylim(0, visual_maze.shape[0])\n",
    "        plt.gca().invert_yaxis()\n",
    "        plt.xticks([])  # Hide x-axis ticks\n",
    "        plt.yticks([])  # Hide y-axis ticks\n",
    "        plt.title('Maze Visualization')\n",
    "        plt.show()\n",
    "\n",
    "# Example usage\n",
    "maze_data = np.array([\n",
    "    [0, 0, 0, 1],\n",
    "    [0, 1, 0, 1],\n",
    "    [0, 0, 0, 0],\n",
    "    [2, 1, 3, 0]\n",
    "])\n",
    "\n",
    "maze = Maze(maze_data)\n",
    "maze.render()  # Render the initial state\n"
   ]
  },
  {
   "cell_type": "code",
   "execution_count": null,
   "id": "2914eb10",
   "metadata": {},
   "outputs": [],
   "source": []
  }
 ],
 "metadata": {
  "kernelspec": {
   "display_name": "Python 3 (ipykernel)",
   "language": "python",
   "name": "python3"
  },
  "language_info": {
   "codemirror_mode": {
    "name": "ipython",
    "version": 3
   },
   "file_extension": ".py",
   "mimetype": "text/x-python",
   "name": "python",
   "nbconvert_exporter": "python",
   "pygments_lexer": "ipython3",
   "version": "3.9.7"
  }
 },
 "nbformat": 4,
 "nbformat_minor": 5
}
